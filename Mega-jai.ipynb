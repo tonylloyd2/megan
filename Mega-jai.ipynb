{
 "cells": [
  {
   "cell_type": "code",
   "execution_count": 1,
   "id": "d7f709a4",
   "metadata": {},
   "outputs": [],
   "source": [
    "import speech_recognition as sr\n"
   ]
  },
  {
   "cell_type": "code",
   "execution_count": 6,
   "id": "393b5ec2",
   "metadata": {},
   "outputs": [],
   "source": [
    "from gtts import gTTS\n",
    "import winsound\n",
    "from pydub import AudioSegment\n",
    "import pyautogui\n",
    "import webbrowser\n",
    "import requests\n",
    "from urllib.parse import quote"
   ]
  }
 ],
 "metadata": {
  "kernelspec": {
   "display_name": "Python 3 (ipykernel)",
   "language": "python",
   "name": "python3"
  },
  "language_info": {
   "codemirror_mode": {
    "name": "ipython",
    "version": 3
   },
   "file_extension": ".py",
   "mimetype": "text/x-python",
   "name": "python",
   "nbconvert_exporter": "python",
   "pygments_lexer": "ipython3",
   "version": "3.11.4"
  }
 },
 "nbformat": 4,
 "nbformat_minor": 5
}
